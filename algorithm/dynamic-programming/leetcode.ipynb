{
 "cells": [
  {
   "cell_type": "code",
   "execution_count": 3,
   "metadata": {},
   "outputs": [
    {
     "name": "stdout",
     "output_type": "stream",
     "text": [
      ":::::>> {(0, 1): 1}\n",
      ":::::>> {(0, 1): 1, (0, 2): 1}\n",
      ":::::>> {(0, 1): 1, (0, 2): 1, (1, 0): 1}\n",
      ":::::>> {(0, 1): 1, (0, 2): 1, (1, 0): 1, (1, 1): 2}\n",
      ":::::>> {(0, 1): 1, (0, 2): 1, (1, 0): 1, (1, 1): 2, (1, 2): 3}\n",
      ":::::>> {(0, 1): 1, (0, 2): 1, (1, 0): 1, (1, 1): 2, (1, 2): 3, (2, 0): 1}\n",
      ":::::>> {(0, 1): 1, (0, 2): 1, (1, 0): 1, (1, 1): 2, (1, 2): 3, (2, 0): 1, (2, 1): 3}\n",
      ":::::>> {(0, 1): 1, (0, 2): 1, (1, 0): 1, (1, 1): 2, (1, 2): 3, (2, 0): 1, (2, 1): 3, (2, 2): 6}\n",
      "6\n"
     ]
    }
   ],
   "source": [
    "def uniquePaths( m: int, n: int, memo={}) -> int:\n",
    "    key = (m,n)\n",
    "    if(key in memo):\n",
    "        return memo[key]\n",
    "    \n",
    "    if(m<=1 and n<=1):\n",
    "        return 1\n",
    "    \n",
    "    ans=0\n",
    "    if(m>1 and ):\n",
    "        ans+= uniquePaths(m-1,n,memo)\n",
    "        \n",
    "    if(n>1):\n",
    "        ans+= uniquePaths(m,n-1,memo)\n",
    "    \n",
    "    memo[key] = ans\n",
    "    print(\":::::>>\",memo)\n",
    "    return  ans\n",
    "\n",
    "print(uniquePaths(2,2))"
   ]
  },
  {
   "cell_type": "code",
   "execution_count": 3,
   "metadata": {},
   "outputs": [
    {
     "name": "stdout",
     "output_type": "stream",
     "text": [
      "True\n"
     ]
    }
   ],
   "source": [
    "def fun (nums):\n",
    "    if(len(nums) <=1):\n",
    "            return False\n",
    "    if(len(nums) == 2):\n",
    "        return nums[0] == nums[1]\n",
    "    \n",
    "    nums.sort()\n",
    "    \n",
    "    l = nums[0]\n",
    "    r = sum(nums[1:])\n",
    "    n = len(nums)\n",
    "   \n",
    "    for i in range(1,n-1):\n",
    "        if(l==r):\n",
    "            return True\n",
    "        l+=nums[i]\n",
    "        r-=nums[i]\n",
    "        \n",
    "    return l==r\n",
    "print(fun([1,5,11,5]))"
   ]
  },
  {
   "cell_type": "code",
   "execution_count": null,
   "metadata": {},
   "outputs": [],
   "source": [
    "def isValidTower(s):\n",
    "    i = 0\n",
    "    n = len(s)\n",
    "    ll = []\n",
    "    while(i<n-1):\n",
    "        if(s[i] in ll):\n",
    "            return False\n",
    "        while(i<n-1 and s[i] == s[i+1]):\n",
    "            i+=1\n",
    "        ll.append(s[i])\n",
    "        i+=1\n",
    "    if s[-1] in ll:\n",
    "        return False\n",
    "\n",
    "    return \n",
    "\n",
    "def fun(ls):\n",
    "    pass\n",
    "    \n"
   ]
  },
  {
   "cell_type": "code",
   "execution_count": 1,
   "metadata": {},
   "outputs": [
    {
     "name": "stdout",
     "output_type": "stream",
     "text": [
      "[9, -1, 8, 14, 3, -1, -1, -1, 12, -1, -1, 4, 0, -1, 2, -1, -1, -1, -1, -1, -1, -1, -1, -1, -1, -1]\n",
      "[12, -1, 14, 4, 11, -1, -1, -1, 2, 0, -1, -1, 8, -1, 3, -1, -1, -1, -1, -1, -1, -1, -1, -1, -1, -1]\n",
      "[1, 0, 2, 1, 3, 0, 0, 0, 1, 1, 0, 1, 2, 0, 1, 0, 0, 0, 0, 0, 0, 0, 0, 0, 0, 5]\n",
      "[9, 25]\n",
      "J\n",
      "JA\n",
      "JAMM\n",
      "JAMMI\n",
      "JAMMICC\n",
      "JAMMICCO\n",
      "JAMMICCOD\n",
      "JAMMICCODEEE\n",
      "JAMMICCODEEEL\n",
      "JAMMICCODEEELZZZZZ\n",
      "Case #2 : JAMMICCODEEELZZZZZ\n"
     ]
    }
   ],
   "source": [
    "def solve(tt):\n",
    "    # n = int(input())\n",
    "    # s = input().split()\n",
    "    n = 5\n",
    "    s = [\"CODE\",\"JAM\",\"MIC\",\"EEL\",\"ZZZZZ\"]\n",
    "    \n",
    "    # n = 2\n",
    "    # s = [\"OY\",\"YO\"]\n",
    "\n",
    "    # n = 6\n",
    "    # s = [\"A\", \"AA\", \"BB\", \"A\",\"BA\",\"BB\"]\n",
    "    prev = [-1] * 26\n",
    "    next = [-1] * 26\n",
    "    cnt = [0] * 26\n",
    "    tot = len(\"\".join(s))\n",
    "\n",
    "    for i in range(0,n):\n",
    "        for j in range(0,len(s[i])):\n",
    "            cnt[ ord(s[i][j]) - 65] += 1\n",
    "\n",
    "            if j != 0 and s[i][j] != s[i][j-1]:\n",
    "                \n",
    "                if next[ ord(s[i][j - 1]) - 65] != -1:\n",
    "                    print(f\"Case #{tt} : IMPOSSIBLE\")\n",
    "                    return\n",
    "                \n",
    "                if prev[ ord(s[i][j]) - 65] != -1 :\n",
    "                    print(f\"Case #{tt} : IMPOSSIBLE\")\n",
    "                    return\n",
    "                \n",
    "                next[ord(s[i][j - 1]) - 65] = (ord(s[i][j]) - 65)\n",
    "                prev[ord(s[i][j]) - 65] = (ord(s[i][j - 1]) - 65)\n",
    "    st = []\n",
    "    for i in range(0,26):\n",
    "        if cnt[i] != 0 and prev[i] == -1:\n",
    "            st.append(i)\n",
    "    if(len(st) == 0):\n",
    "        print(f\"Case #{tt} : IMPOSSIBLE\")\n",
    "        return\n",
    "\n",
    "    ans=\"\"\n",
    "    print(prev)\n",
    "    print(next)\n",
    "    print(cnt)\n",
    "    k=0\n",
    "    print(st)\n",
    "    while(len(st)):\n",
    "        i = st[0]\n",
    "\n",
    "        while(1):\n",
    "            \n",
    "            ans+= chr(i+65) * cnt[i]\n",
    "            print(ans)\n",
    "            if(i in st):\n",
    "                st.remove(i)\n",
    "            cnt[i] = 0\n",
    "            i = next[i]\n",
    "\n",
    "            if(i == -1):\n",
    "                break\n",
    "            next[prev[i]] = -1\n",
    "            prev[i] = -1\n",
    "\n",
    "    if(tot != len(ans)):\n",
    "        print(f\"Case #{tt} : IMPOSSIBLE\")\n",
    "        return\n",
    "\n",
    "    print(f\"Case #{tt} : {ans}\")\n",
    "solve(2)\n",
    "\n",
    "    \n",
    "\n",
    "\n",
    "\n",
    "\n",
    "\n",
    "            \n",
    "\n",
    "\n"
   ]
  },
  {
   "cell_type": "code",
   "execution_count": null,
   "metadata": {},
   "outputs": [],
   "source": []
  }
 ],
 "metadata": {
  "kernelspec": {
   "display_name": "Python 3.8.10 64-bit",
   "language": "python",
   "name": "python3"
  },
  "language_info": {
   "codemirror_mode": {
    "name": "ipython",
    "version": 3
   },
   "file_extension": ".py",
   "mimetype": "text/x-python",
   "name": "python",
   "nbconvert_exporter": "python",
   "pygments_lexer": "ipython3",
   "version": "3.8.10"
  },
  "orig_nbformat": 4,
  "vscode": {
   "interpreter": {
    "hash": "916dbcbb3f70747c44a77c7bcd40155683ae19c65e1c03b4aa3499c5328201f1"
   }
  }
 },
 "nbformat": 4,
 "nbformat_minor": 2
}
