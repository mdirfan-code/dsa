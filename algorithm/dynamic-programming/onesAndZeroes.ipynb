{
 "cells": [
  {
   "cell_type": "code",
   "execution_count": 3,
   "metadata": {},
   "outputs": [
    {
     "name": "stdout",
     "output_type": "stream",
     "text": [
      "3 2 2\n",
      "0 1\n",
      "2 2 1\n",
      "0 1\n",
      "1 2 0\n",
      "1 0\n",
      "0 1 0\n",
      "1 0\n",
      "0 2 0\n",
      "1 0\n",
      "1 2 1\n",
      "1 0\n",
      "0 1 1\n",
      "1 0\n",
      "0 2 1\n",
      "1 0\n",
      "2 2 2\n",
      "0 1\n",
      "1 2 1\n",
      "1 2 2\n",
      "1 0\n",
      "0 1 2\n",
      "1 0\n",
      "0 2 2\n",
      "1 0\n",
      "4\n"
     ]
    }
   ],
   "source": [
    "def fun(strs,ind,m,n,memo={}):\n",
    "    key = (ind,m,n)\n",
    "    if(ind==-1 or (m<=0 and n<=0)):\n",
    "        return 0\n",
    "    print(ind, m,n)\n",
    "    if(key in memo):\n",
    "        return memo[key]\n",
    "    \n",
    "    ones = 0\n",
    "    for i in strs[ind]:\n",
    "        ones += bool(i == '1')\n",
    "    zeros = len(strs[ind]) - ones\n",
    "    print(zeros, ones)\n",
    "    if(zeros <= m and ones <= n):\n",
    "        memo[key] = max(1 + fun(strs, ind-1,m-zeros,n-ones,memo),fun(strs, ind-1,m,n,memo))\n",
    "    else:\n",
    "        memo[key] = fun(strs,ind-1,m,n,memo)\n",
    "    return memo[key]\n",
    "\n",
    "ls = [\"0\",\"0\",\"1\",\"1\"]\n",
    "m = 2\n",
    "n = 2\n",
    "\n",
    "print(fun(ls,len(ls)-1,m,n))"
   ]
  },
  {
   "cell_type": "code",
   "execution_count": 4,
   "metadata": {},
   "outputs": [
    {
     "name": "stdout",
     "output_type": "stream",
     "text": [
      "3\n"
     ]
    }
   ],
   "source": [
    "def fun(n,memo={}):\n",
    "    if(n in memo):\n",
    "        return memo[n]\n",
    "    if(n < 0):\n",
    "        return 0\n",
    "    if(n == 0):\n",
    "        return 1\n",
    "    \n",
    "    memo[n] = fun(n-1) + fun(n-2)\n",
    "    \n",
    "    return memo[n]\n",
    "\n",
    "print(fun(3))"
   ]
  },
  {
   "cell_type": "code",
   "execution_count": null,
   "metadata": {},
   "outputs": [],
   "source": [
    "from sys import stdin, setrecursionlimit\n",
    "setrecursionlimit(10**7)\n",
    "\n",
    "\n",
    "\n",
    "def fun(n,memo={}):\n",
    "    if(n in memo):\n",
    "        return memo[n]\n",
    "    if(n < 0):\n",
    "        return 0\n",
    "    if(n == 0):\n",
    "        return 1\n",
    "\n",
    "    memo[n] = fun(n-1,memo) + fun(n-2,memo)\n",
    "\n",
    "    return memo[n]\n",
    "\n",
    "\n",
    "\n",
    "\n",
    "\n",
    "\n",
    "\n",
    "\n",
    "\n",
    "\n",
    "\n",
    "\n",
    "\n",
    "\n",
    "\n",
    "\n",
    "\n",
    "#   taking inpit using fast I/O\n",
    "def takeInput() :\n",
    "    n = int(stdin.readline().strip())\n",
    "    return n\n",
    "\n",
    "#   main\n",
    "T = int(input())\n",
    "while (T>0):\n",
    "    T-=1\n",
    "    n = takeInput()\n",
    "    ans = fun(n)\n",
    "    print(ans)\n",
    "``"
   ]
  },
  {
   "cell_type": "code",
   "execution_count": 1,
   "metadata": {},
   "outputs": [
    {
     "name": "stdout",
     "output_type": "stream",
     "text": [
      "14\n",
      "12\n",
      "8\n",
      "0\n"
     ]
    }
   ],
   "source": [
    "x = 15\n",
    "while(x>0):\n",
    "    val = x & (x - 1)\n",
    "    print(val)\n",
    "    x = val"
   ]
  },
  {
   "cell_type": "code",
   "execution_count": null,
   "metadata": {},
   "outputs": [],
   "source": [
    "       1\n",
    "      /  \\\n",
    "     2    3\n",
    "    /     / \\\n",
    "    4     5  6\n",
    "\n",
    "sam Qam uam ram tam pam\n",
    "\n"
   ]
  },
  {
   "cell_type": "code",
   "execution_count": 5,
   "metadata": {},
   "outputs": [
    {
     "data": {
      "text/plain": [
       "'8000000000000'"
      ]
     },
     "execution_count": 5,
     "metadata": {},
     "output_type": "execute_result"
    }
   ],
   "source": [
    "val = 1\n",
    "for i in range(2,101,2):\n",
    "    val *= i\n",
    "str(val)[-13:]\n"
   ]
  },
  {
   "cell_type": "code",
   "execution_count": 6,
   "metadata": {},
   "outputs": [
    {
     "data": {
      "text/plain": [
       "400"
      ]
     },
     "execution_count": 6,
     "metadata": {},
     "output_type": "execute_result"
    }
   ],
   "source": [
    "16*25"
   ]
  },
  {
   "cell_type": "code",
   "execution_count": 7,
   "metadata": {},
   "outputs": [
    {
     "data": {
      "text/plain": [
       "442"
      ]
     },
     "execution_count": 7,
     "metadata": {},
     "output_type": "execute_result"
    }
   ],
   "source": [
    "17*26"
   ]
  },
  {
   "cell_type": "code",
   "execution_count": 11,
   "metadata": {},
   "outputs": [
    {
     "name": "stdout",
     "output_type": "stream",
     "text": [
      "5040\n",
      "720\n",
      "0.8571428571428571\n"
     ]
    }
   ],
   "source": [
    "def fac(n):\n",
    "    if n ==1 or n==0:\n",
    "        return 1\n",
    "    return n * fac(n-1)\n",
    "def per(n,r):\n",
    "    return fac(n)//fac(n-r)\n",
    "\n",
    "f = per(7,7)\n",
    "r = per(6,6)\n",
    "print(f)\n",
    "print(r)\n",
    "print((f-r)/f)"
   ]
  },
  {
   "cell_type": "code",
   "execution_count": 14,
   "metadata": {},
   "outputs": [
    {
     "name": "stdout",
     "output_type": "stream",
     "text": [
      "[(1, 3), (2, 2), (3, 1)]\n",
      "[3, 2]\n"
     ]
    }
   ],
   "source": [
    "def fun(nums, k):\n",
    "    d = {}\n",
    "    for i in nums:\n",
    "        if(i in d):\n",
    "            d[i]+=1\n",
    "        else:\n",
    "            d[i] = 1\n",
    "    ans = []\n",
    "    a = list(zip(d.values(),d.keys()))\n",
    "    a.sort()\n",
    "    i = 0\n",
    "    print(a)\n",
    "    while(i<k):\n",
    "        ans.append(a[i][1])\n",
    "        i+=1\n",
    "    return ans\n",
    "\n",
    "print(fun([1,1,1,2,2,3],2))"
   ]
  },
  {
   "cell_type": "code",
   "execution_count": null,
   "metadata": {},
   "outputs": [],
   "source": [
    "class bt():\n",
    "    def __init__(self,tn,x,y):\n",
    "        self.team_name = tn\n",
    "        self.sector_x = x\n",
    "        self.sector_y = y\n",
    "\n",
    "\n",
    "\n",
    "ls = []\n",
    "n = input()\n",
    "mx = 0\n",
    "my = 0\n",
    "for i in range(n):\n",
    "    inp = list(input().split())\n",
    "    \n",
    "    ls.append(bt(inp[0],int(inp[1]),int(inp[2])))\n",
    "    mx = max(mx, int(inp[1]))\n",
    "    my = max(my, int(inp[2]))\n",
    "\n",
    "mpp = [[\" \"] * mx] * my\n",
    "\n",
    "def isAdj(m,x,y):\n",
    "    an = []\n",
    "\n",
    "    if( or m[x-1][y-1]==\"A\" or m[x+1][y]==\"A\" or m[x+1][y-1]==\"A\" or m[x+1][y+1]==\"A\" or m[x-1][y]==\"A\" or m[x-1][y+1] = \"A\" or)\n",
    "\n",
    "for i in ls:\n",
    "    if i.team_name == \"A\":\n",
    "        mpp[i.sector_x][i.sector_y] = \"A\"\n",
    "for i in ls:\n",
    "    if i.team_name == \"Z\":\n",
    "        x,y = i.sector_x,i.sector_y\n",
    "        ttm = \"Z\"\n",
    "        if()\n",
    "        mpp[x][y] = ttm\n",
    "    \n"
   ]
  },
  {
   "cell_type": "code",
   "execution_count": 17,
   "metadata": {},
   "outputs": [
    {
     "name": "stdout",
     "output_type": "stream",
     "text": [
      "{'p': 1}\n",
      "{'p': 1, 'w': 1}\n",
      "w 2\n",
      "{'p': 1, 'w': 1, 'k': 1}\n",
      "{'p': 1, 'w': 1, 'k': 1, 'e': 1}\n",
      "w 4\n",
      "4\n"
     ]
    }
   ],
   "source": [
    "def fun(s):\n",
    "    c = {}\n",
    "    l = 0\n",
    "    ll = 0\n",
    "    for i in s:\n",
    "        if(i not in c ):\n",
    "            c[i]=1\n",
    "            print(c)\n",
    "            ll+=1\n",
    "        else:\n",
    "            print(i,ll)\n",
    "            l = max(ll,l)\n",
    "    l = max(ll,l)\n",
    "    return l\n",
    "print(fun(\"pwwkew\"))"
   ]
  },
  {
   "cell_type": "code",
   "execution_count": 3,
   "metadata": {},
   "outputs": [
    {
     "data": {
      "text/plain": [
       "4"
      ]
     },
     "execution_count": 3,
     "metadata": {},
     "output_type": "execute_result"
    }
   ],
   "source": [
    "def fun(x,p):\n",
    "    result = []\n",
    "    i = 1\n",
    "    \n",
    "    while i*i <= x:\n",
    "       \n",
    "        if x % i == 0:\n",
    "            result.append(i)\n",
    "            \n",
    "            if x//i != i: \n",
    "                result.append(x//i)\n",
    "        i += 1\n",
    "    if(p > len(result)):\n",
    "        return 0\n",
    "    result.sort()\n",
    "    return result[p-1]\n",
    "fun(20,3)"
   ]
  },
  {
   "cell_type": "code",
   "execution_count": 2,
   "metadata": {},
   "outputs": [
    {
     "name": "stdout",
     "output_type": "stream",
     "text": [
      "[[], ['a'], ['b'], ['a', 'b'], ['c'], ['a', 'c'], ['b', 'c'], ['a', 'b', 'c'], ['d'], ['a', 'd'], ['b', 'd'], ['a', 'b', 'd'], ['c', 'd'], ['a', 'c', 'd'], ['b', 'c', 'd'], ['a', 'b', 'c', 'd']]\n"
     ]
    }
   ],
   "source": [
    "def sub(*l):\n",
    "    n = len(l)\n",
    "    ls = []\n",
    "    for i in range(int(1<<n)):\n",
    "        ml = []\n",
    "        for j in range(n):\n",
    "            if(i&(1<<j)):\n",
    "                ml.append(l[j])\n",
    "        ls.append(ml)\n",
    "    return ls\n",
    "\n",
    "print(sub(\"a\",\"b\",\"c\",\"d\"))\n",
    "\n",
    "\n",
    "\n"
   ]
  },
  {
   "cell_type": "code",
   "execution_count": null,
   "metadata": {},
   "outputs": [],
   "source": []
  }
 ],
 "metadata": {
  "interpreter": {
   "hash": "916dbcbb3f70747c44a77c7bcd40155683ae19c65e1c03b4aa3499c5328201f1"
  },
  "kernelspec": {
   "display_name": "Python 3.8.10 64-bit",
   "language": "python",
   "name": "python3"
  },
  "language_info": {
   "codemirror_mode": {
    "name": "ipython",
    "version": 3
   },
   "file_extension": ".py",
   "mimetype": "text/x-python",
   "name": "python",
   "nbconvert_exporter": "python",
   "pygments_lexer": "ipython3",
   "version": "3.8.10"
  },
  "orig_nbformat": 4
 },
 "nbformat": 4,
 "nbformat_minor": 2
}
