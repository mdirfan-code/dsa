{
 "cells": [
  {
   "cell_type": "code",
   "execution_count": null,
   "metadata": {},
   "outputs": [],
   "source": [
    "n = int(input())\n",
    "k = int(input())\n",
    "\n",
    "ls = []\n",
    "\n",
    "for i in range(n):\n",
    "    ls.append(int(input()))\n",
    "\n",
    "\n"
   ]
  },
  {
   "cell_type": "code",
   "execution_count": 3,
   "metadata": {},
   "outputs": [
    {
     "name": "stdout",
     "output_type": "stream",
     "text": [
      "1\n"
     ]
    }
   ],
   "source": [
    "n = int(input())\n",
    "arr = []\n",
    "\n",
    "for i in range(n):\n",
    "    arr.append(int(input()))\n",
    "\n",
    "ans = 0\n",
    "for i in range(n):\n",
    "    flg = 0\n",
    "    for j in range(n):\n",
    "        if(i!=j and (arr[i] % arr[j] == 0 or arr[j] % arr[i] == 0)):\n",
    "            flg = 1\n",
    "            break\n",
    "    if(flg == 0):\n",
    "        ans += 1\n",
    "print(ans)"
   ]
  },
  {
   "cell_type": "code",
   "execution_count": null,
   "metadata": {},
   "outputs": [],
   "source": [
    "def larGood(n, a,s = 0, i = 0):\n",
    "    if(i == n ):\n",
    "        return 1\n",
    "    if(s)\n",
    "    \n",
    "    \n",
    "\n",
    "\n",
    "\n",
    "\n",
    "n = int(input())\n",
    "a = list(map(int,input().split()))\n",
    "\n",
    "print(larGood(n,a))"
   ]
  },
  {
   "cell_type": "code",
   "execution_count": null,
   "metadata": {},
   "outputs": [],
   "source": []
  },
  {
   "cell_type": "code",
   "execution_count": 18,
   "metadata": {},
   "outputs": [
    {
     "name": "stdout",
     "output_type": "stream",
     "text": [
      "1\n",
      "2\n",
      "3\n",
      "4\n"
     ]
    }
   ],
   "source": [
    "n = int(input())\n",
    "\n",
    "ls = []\n",
    "\n",
    "for i in range(n):\n",
    "    ls.append(int(input()))\n",
    "\n",
    "# ls = list(map(int,input().split()))\n",
    "\n",
    "ls.sort()\n",
    "i = 0\n",
    "m=0\n",
    "while(i < len(ls) - 1 and len(ls) > len(set(ls)) ):\n",
    "    \n",
    "    if(ls[i] == ls[i+1]):\n",
    "        k = ls[i]*2\n",
    "        ls.pop(i)\n",
    "        ls.pop(i)\n",
    "        j=i\n",
    "       \n",
    "        while(j < len(ls) and k > ls[j]):\n",
    "            j+=1\n",
    "        if(j == len(ls)):\n",
    "            ls.append(k)\n",
    "        else:\n",
    "            ls.insert(j,k)\n",
    "   \n",
    "        m+=1\n",
    "        # print(ls)\n",
    "    else:\n",
    "        i+=1\n",
    "        print(i)\n",
    "print(m)\n",
    "        \n"
   ]
  },
  {
   "cell_type": "code",
   "execution_count": 6,
   "metadata": {},
   "outputs": [
    {
     "name": "stdout",
     "output_type": "stream",
     "text": [
      "['b']\n",
      "['b', 'c']\n",
      "['b', 'a']\n",
      "['b', 'a', 'c']\n",
      "bac\n"
     ]
    }
   ],
   "source": [
    "def fun(s):\n",
    "    d = {}\n",
    "    \n",
    "    for i in s:\n",
    "        if(i in d):\n",
    "            d[i] += 1\n",
    "        else:\n",
    "            d[i] = 1\n",
    "    res = \"\"\n",
    "    stack = []\n",
    "    \n",
    "    for i in s:\n",
    "        if(i not in stack):\n",
    "            while(stack and d[stack[-1]] > 1 and stack[-1]>i):\n",
    "                d[stack[-1]] -= 1\n",
    "                stack.pop()\n",
    "            \n",
    "            stack.append(i)\n",
    "            print(stack)\n",
    "        else:\n",
    "            d[i]-=1\n",
    "\n",
    "    return \"\".join(stack)\n",
    "print(fun(\"bbcaac\"))"
   ]
  },
  {
   "cell_type": "code",
   "execution_count": 12,
   "metadata": {},
   "outputs": [
    {
     "name": "stdout",
     "output_type": "stream",
     "text": [
      "aba\n"
     ]
    }
   ],
   "source": [
    "def longestPalindrome( s: str) -> str:\n",
    "    rs = s[::-1]\n",
    "    n = len(rs)\n",
    "    f = \"\"\n",
    "    mxp = s[0]\n",
    "    for i in range(n):\n",
    "        if(s[i]==rs[i]):\n",
    "            f+=s[i]\n",
    "            mxp = max(f,mxp,key=lambda ll: len(ll))\n",
    "            # print(f)\n",
    "        else:\n",
    "            f=\"\"\n",
    "    return mxp\n",
    "    \n",
    "print(longestPalindrome(\"babad\"))"
   ]
  },
  {
   "cell_type": "markdown",
   "metadata": {},
   "source": []
  },
  {
   "cell_type": "code",
   "execution_count": 4,
   "metadata": {},
   "outputs": [
    {
     "name": "stdout",
     "output_type": "stream",
     "text": [
      "['1', '2', '1', '9']\n",
      "['1', '2', '3']\n"
     ]
    }
   ],
   "source": [
    "def removeKdigits( num: str, k: int) -> str:\n",
    "    mnstk = [num[0]]\n",
    "    i = 1\n",
    "    while(i<len(num)):\n",
    "        \n",
    "        while(k and mnstk and mnstk[-1]> num[i]):\n",
    "            mnstk.pop()\n",
    "            k-=1\n",
    "        mnstk.append(num[i])\n",
    "        i+=1\n",
    "    while(k and mnstk):\n",
    "        mnstk.pop()\n",
    "        k-=1\n",
    "    return  \"\".join(mnstk)\n",
    "print(removeKdigits(\"1432219\",3))\n",
    "print(removeKdigits(\"123456\",3))\n",
    "                "
   ]
  },
  {
   "cell_type": "code",
   "execution_count": null,
   "metadata": {},
   "outputs": [],
   "source": []
  }
 ],
 "metadata": {
  "interpreter": {
   "hash": "916dbcbb3f70747c44a77c7bcd40155683ae19c65e1c03b4aa3499c5328201f1"
  },
  "kernelspec": {
   "display_name": "Python 3.8.10 64-bit",
   "language": "python",
   "name": "python3"
  },
  "language_info": {
   "codemirror_mode": {
    "name": "ipython",
    "version": 3
   },
   "file_extension": ".py",
   "mimetype": "text/x-python",
   "name": "python",
   "nbconvert_exporter": "python",
   "pygments_lexer": "ipython3",
   "version": "3.8.10"
  },
  "orig_nbformat": 4
 },
 "nbformat": 4,
 "nbformat_minor": 2
}
