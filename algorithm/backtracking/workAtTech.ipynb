{
 "cells": [
  {
   "cell_type": "code",
   "execution_count": 2,
   "metadata": {},
   "outputs": [
    {
     "name": "stdout",
     "output_type": "stream",
     "text": [
      "[[], [1], [1, 2], [1, 2, 3], [1, 3], [2], [2, 3], [3]]\n"
     ]
    }
   ],
   "source": [
    "def subbest(ls,sbst=[],ind=0):\n",
    "    ans = [sbst]\n",
    "    for i in range(ind,len(ls)):\n",
    "        ans+=subbest(ls,sbst+[ls[i]],i+1)\n",
    "    return ans\n",
    "\n",
    "print(subbest([1,2,3]))\n"
   ]
  },
  {
   "cell_type": "code",
   "execution_count": 22,
   "metadata": {},
   "outputs": [
    {
     "name": "stdout",
     "output_type": "stream",
     "text": [
      "[[6, 1, 1], [5, 2, 1], [7, 1], [6, 2]]\n"
     ]
    }
   ],
   "source": [
    "def com(A,val,memo={}):\n",
    "    if(val in memo):\n",
    "        return memo[val]\n",
    "    if(val==0 ):\n",
    "        return [[]]\n",
    "    if(val<0):\n",
    "        return []\n",
    "    ans = []\n",
    "    for e,i in enumerate(A):\n",
    "        if(e!=0 and i == A[e-1]):\n",
    "            continue\n",
    "        x = com(A[e+1:],val-i,memo)\n",
    "        if(x):\n",
    "\n",
    "            ans+=[k+[i] for k in x]\n",
    "    memo[val] = ans\n",
    "    return ans\n",
    "\n",
    "print(com(sorted([10, 1, 2, 7, 6, 1, 5]),8))"
   ]
  },
  {
   "cell_type": "code",
   "execution_count": 7,
   "metadata": {},
   "outputs": [
    {
     "data": {
      "text/plain": [
       "False"
      ]
     },
     "execution_count": 7,
     "metadata": {},
     "output_type": "execute_result"
    }
   ],
   "source": [
    "bool([])"
   ]
  },
  {
   "cell_type": "code",
   "execution_count": 12,
   "metadata": {},
   "outputs": [
    {
     "name": "stdout",
     "output_type": "stream",
     "text": [
      "[[2, 1], [3, 1], [4, 1], [3, 2], [4, 2], [4, 3]]\n"
     ]
    }
   ],
   "source": [
    "def com(A,val):\n",
    "   \n",
    "    if(val==0 ):\n",
    "        return [[]]\n",
    "    if(val<0):\n",
    "        return []\n",
    "    ans = []\n",
    "    for e,i in enumerate(A):\n",
    "        x = com(A[e+1:],val-1)\n",
    "        if(x):\n",
    "            ans+=[k+[i] for k in x]\n",
    "    return ans\n",
    "\n",
    "\n",
    "print(com([1,2,3,4],2))"
   ]
  },
  {
   "cell_type": "code",
   "execution_count": 21,
   "metadata": {},
   "outputs": [
    {
     "name": "stdout",
     "output_type": "stream",
     "text": [
      "[]\n",
      "[[1, 1, 2]]\n",
      "[[1, 1, 2]]\n",
      "[]\n",
      "[]\n",
      "[]\n",
      "[[1, 1]]\n",
      "[]\n",
      "[]\n",
      "[]\n",
      "[[1, 3]]\n",
      "[]\n",
      "[[1]]\n",
      "[[1]]\n",
      "[[1], [1]]\n",
      "[]\n",
      "[]\n",
      "[]\n",
      "[[1, 3]]\n",
      "[]\n",
      "[[1]]\n",
      "[[1]]\n",
      "[]\n",
      "[]\n",
      "[]\n",
      "[]\n",
      "[]\n",
      "[]\n",
      "[]\n",
      "[[]]\n",
      "[[], [], []]\n",
      "[[], [], []]\n"
     ]
    }
   ],
   "source": [
    "def com(A, val, ind, curr):\n",
    "    if(val==0):\n",
    "        return [curr]\n",
    "    if(ind == len(A) or val<0):\n",
    "        return []\n",
    "    ans = []\n",
    "    curr.append(A[ind])\n",
    "    \n",
    "    ans+=com(A,val-A[ind],ind+1,curr)\n",
    "    curr.pop()\n",
    "    ans+=com(A,val,ind+1,curr)\n",
    "    print(ans)\n",
    "    return ans\n",
    "\n",
    "print(com([1,1,2,3,4],8,0,[]))"
   ]
  },
  {
   "cell_type": "code",
   "execution_count": 53,
   "metadata": {},
   "outputs": [
    {
     "name": "stdout",
     "output_type": "stream",
     "text": [
      "-->  0 2 1\n",
      "ans :  1\n",
      "-->  2 6 2\n",
      "ans :  5\n",
      "-:->  6 9 2\n",
      "ans :  6\n",
      "6\n",
      "-->  0 3 1\n",
      "ans :  2\n",
      "2\n",
      "-->  0 2 1\n",
      "ans :  1\n",
      "-:->  2 5 1\n",
      "ans :  3\n",
      "3\n",
      "-:->  0 3 3\n",
      "ans :  9\n",
      "9\n",
      "-->  0 2 8\n",
      "ans :  6\n",
      "-:->  3 6 7\n",
      "ans :  27\n",
      "27\n",
      "-:->  1 2 8\n",
      "ans :  0\n",
      "0\n"
     ]
    }
   ],
   "source": [
    "def d(n):\n",
    "    if(n<0):\n",
    "        return 0\n",
    "    return n\n",
    "def dd(l,i,j,k):\n",
    "    ans = 0\n",
    "    while(i<j):\n",
    "        ans += d(k-l[i])\n",
    "        i+=1\n",
    "    return ans\n",
    "        \n",
    "\n",
    "\n",
    "def ddd(l):\n",
    "    i = 0\n",
    "    j = 2\n",
    "    n = len(l)\n",
    "    \n",
    "    ans = 0\n",
    "    while(i<n-2):\n",
    "        d={}\n",
    "        while(i<n-2 and l[i]<l[i+1]):\n",
    "            i+=1\n",
    "        j = i+1\n",
    "        while(j<n-1 and l[j] > l[j+1]):\n",
    "            j+=1\n",
    "        k = l[j]\n",
    "        f = j\n",
    "        while( j<n and l[i] > l[j]):\n",
    "            if( k < l[j] ):\n",
    "                k = l[j]\n",
    "                f = j\n",
    "            j+=1\n",
    "        if(j < n-1):\n",
    "            \n",
    "            ans+=dd(l,i,j,min(l[i],l[j]))\n",
    "            print(\"--> \",i,j,min(l[i],l[j]))\n",
    "            i = j\n",
    "        else:\n",
    "            print(\"-:-> \",i,f,k)\n",
    "            if(j<n and l[f] < l[j]):\n",
    "                f = j\n",
    "                k = l[j]\n",
    "            ans += dd(l,i,f,min(l[i], k))\n",
    "            i = f\n",
    "        print(\"ans : \",ans)\n",
    "       \n",
    "        \n",
    "    return ans\n",
    "\n",
    "print(ddd([ 1, 0, 2, 1, 0, 1, 3, 2, 1, 2, 1]))\n",
    "print(ddd([1,0,0,1,0]))\n",
    "print(ddd([1,0,2,0,0,1]))\n",
    "print(ddd([4,2,0,3,2,5]))\n",
    "print(ddd([8,2,8,9,0,1,7,7,9]))\n",
    "            \n",
    "\n",
    "print(ddd([1,7,8]))\n",
    "\n",
    "    "
   ]
  },
  {
   "cell_type": "code",
   "execution_count": null,
   "metadata": {},
   "outputs": [],
   "source": []
  }
 ],
 "metadata": {
  "interpreter": {
   "hash": "916dbcbb3f70747c44a77c7bcd40155683ae19c65e1c03b4aa3499c5328201f1"
  },
  "kernelspec": {
   "display_name": "Python 3.8.10 64-bit",
   "language": "python",
   "name": "python3"
  },
  "language_info": {
   "codemirror_mode": {
    "name": "ipython",
    "version": 3
   },
   "file_extension": ".py",
   "mimetype": "text/x-python",
   "name": "python",
   "nbconvert_exporter": "python",
   "pygments_lexer": "ipython3",
   "version": "3.8.10"
  },
  "orig_nbformat": 4
 },
 "nbformat": 4,
 "nbformat_minor": 2
}
