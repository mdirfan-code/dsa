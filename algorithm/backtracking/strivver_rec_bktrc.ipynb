{
 "cells": [
  {
   "cell_type": "markdown",
   "metadata": {},
   "source": [
    "# Recursion and Backtracing"
   ]
  },
  {
   "cell_type": "code",
   "execution_count": 1,
   "metadata": {},
   "outputs": [
    {
     "name": "stdout",
     "output_type": "stream",
     "text": [
      "15\n",
      "45\n",
      "171\n",
      "435\n"
     ]
    }
   ],
   "source": [
    "# Sum of first N numbers\n",
    "\n",
    "def fun(n):\n",
    "    if(n==0):\n",
    "        return 0\n",
    "    return fun(n-1) + n\n",
    "print(fun(5))\n",
    "print(fun(9))\n",
    "print(fun(18))\n",
    "print(fun(29))"
   ]
  },
  {
   "cell_type": "code",
   "execution_count": 4,
   "metadata": {},
   "outputs": [
    {
     "name": "stdout",
     "output_type": "stream",
     "text": [
      "False\n",
      "False\n"
     ]
    }
   ],
   "source": [
    "# Check whether string is palindrom\n",
    "\n",
    "def fun(s,i = 0):\n",
    "    if(i>=len(s)//2):\n",
    "        return True\n",
    "    if(s[i]==s[len(s)-i-1]):\n",
    "        return fun(s,i+1)\n",
    "    return False\n",
    "\n",
    "print(fun(\"naman\"))\n",
    "print(fun(\"irfan\"))\n"
   ]
  },
  {
   "cell_type": "code",
   "execution_count": 15,
   "metadata": {},
   "outputs": [
    {
     "name": "stdout",
     "output_type": "stream",
     "text": [
      "[['i', 'r', 'f', 'a', 'n'], ['i', 'r', 'f', 'a'], ['i', 'r', 'f', 'a'], ['i', 'r', 'f', 'n'], ['i', 'r', 'f'], ['i', 'r', 'f'], ['i', 'r', 'f'], ['i', 'r', 'a', 'n'], ['i', 'r', 'a'], ['i', 'r', 'a'], ['i', 'r', 'n'], ['i', 'r'], ['i', 'r'], ['i', 'r'], ['i', 'r'], ['i', 'f', 'a', 'n'], ['i', 'f', 'a'], ['i', 'f', 'a'], ['i', 'f', 'n'], ['i', 'f'], ['i', 'f'], ['i', 'f'], ['i', 'a', 'n'], ['i', 'a'], ['i', 'a'], ['i', 'n'], ['i'], ['i'], ['i'], ['i'], ['i'], ['r', 'f', 'a', 'n'], ['r', 'f', 'a'], ['r', 'f', 'a'], ['r', 'f', 'n'], ['r', 'f'], ['r', 'f'], ['r', 'f'], ['r', 'a', 'n'], ['r', 'a'], ['r', 'a'], ['r', 'n'], ['r'], ['r'], ['r'], ['r'], ['f', 'a', 'n'], ['f', 'a'], ['f', 'a'], ['f', 'n'], ['f'], ['f'], ['f'], ['a', 'n'], ['a'], ['a'], ['n'], [], [], [], [], [], []]\n"
     ]
    }
   ],
   "source": [
    "# recursion finding all subsequnces\n",
    "\n",
    "def fun(s,i=0,m=[]):\n",
    "    if(len(s)<=i):\n",
    "        \n",
    "        return [m+[]]\n",
    "    m.append(s[i])\n",
    "    a = fun(s,i+1,m)\n",
    "    m.pop()\n",
    "    b = fun(s,i+1,m)\n",
    "    return a+b\n",
    "    \n",
    "print(fun(\"irfan\"))\n",
    "    \n"
   ]
  },
  {
   "cell_type": "code",
   "execution_count": 23,
   "metadata": {},
   "outputs": [
    {
     "name": "stdout",
     "output_type": "stream",
     "text": [
      "{(1, 2, 2, 3), (1, 3, 4), (2, 2, 4), (1, 2, 5), (3, 5)}\n"
     ]
    }
   ],
   "source": [
    "# recursion finding all subsequnces with sum k\n",
    "\n",
    "from collections import Counter\n",
    "\n",
    "\n",
    "def fun(s,k,i=0,m=[]):\n",
    "    if(len(s)<=i):\n",
    "        if(sum(m)==k):\n",
    "            return [tuple(m+[])]\n",
    "        return []\n",
    "    m.append(s[i])\n",
    "    a = fun(s,k,i+1,m)\n",
    "    m.pop()\n",
    "    b = fun(s,k,i+1,m)\n",
    "    return a+b\n",
    "    \n",
    "print(set(fun([1,2,2,3,4,5],8)))\n",
    "    \n"
   ]
  },
  {
   "cell_type": "code",
   "execution_count": 31,
   "metadata": {},
   "outputs": [
    {
     "name": "stdout",
     "output_type": "stream",
     "text": [
      "[(1, 2, 2, 3), (1, 3, 4), (2, 2, 4), (1, 2, 5), (3, 5)]\n"
     ]
    }
   ],
   "source": [
    "# recursion finding unique subsequence with sum k\n",
    "\n",
    "def fcmb(s,k,i,ans,m=[]):\n",
    "    if(k == 0):\n",
    "        ans.append(tuple(m+[]))\n",
    "    if(len(s)<=i):\n",
    "        return \n",
    "    m.append(s[i])\n",
    "    if(k-s[i]>=0):\n",
    "        fcmb(s,k-s[i],i+1,ans,m)\n",
    "    m.pop()\n",
    "    fcmb(s,k,i+1,ans,m)\n",
    "    \n",
    "\n",
    "\n",
    "def fun(s,k):\n",
    "    ans = []\n",
    "    fcmb(s,k,0,ans)\n",
    "    return list(set(ans))\n",
    "print((fun([1,2,2,3,4,5],8)))"
   ]
  },
  {
   "cell_type": "code",
   "execution_count": 35,
   "metadata": {},
   "outputs": [
    {
     "name": "stdout",
     "output_type": "stream",
     "text": [
      "[0, 3, 2, 5]\n"
     ]
    }
   ],
   "source": [
    "# Recursion Finding sum of all subset \n",
    "def ss(s,i,k,ans):\n",
    "    if(len(s)<=i):\n",
    "        ans.append(k)\n",
    "        return\n",
    "    ss(s,i+1,k,ans)\n",
    "    ss(s,i+1,k+s[i],ans)\n",
    "    \n",
    "def fun(s):\n",
    "    ans = []\n",
    "    ss(s,0,0,ans)\n",
    "    return ans\n",
    "print(fun([2,3]))"
   ]
  },
  {
   "cell_type": "markdown",
   "metadata": {},
   "source": [
    "---------------------------\n",
    "Given an integer array nums that may contain duplicates, return all possible subsets (the power set).\n",
    "\n",
    "The solution set must not contain duplicate subsets. Return the solution in any order.\n",
    "\n",
    "Link : https://leetcode.com/problems/subsets-ii/\n"
   ]
  },
  {
   "cell_type": "code",
   "execution_count": null,
   "metadata": {},
   "outputs": [],
   "source": []
  }
 ],
 "metadata": {
  "kernelspec": {
   "display_name": "Python 3.8.10 64-bit",
   "language": "python",
   "name": "python3"
  },
  "language_info": {
   "codemirror_mode": {
    "name": "ipython",
    "version": 3
   },
   "file_extension": ".py",
   "mimetype": "text/x-python",
   "name": "python",
   "nbconvert_exporter": "python",
   "pygments_lexer": "ipython3",
   "version": "3.8.10"
  },
  "orig_nbformat": 4,
  "vscode": {
   "interpreter": {
    "hash": "916dbcbb3f70747c44a77c7bcd40155683ae19c65e1c03b4aa3499c5328201f1"
   }
  }
 },
 "nbformat": 4,
 "nbformat_minor": 2
}
