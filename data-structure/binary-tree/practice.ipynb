{
 "cells": [
  {
   "cell_type": "code",
   "execution_count": 5,
   "metadata": {},
   "outputs": [
    {
     "name": "stdout",
     "output_type": "stream",
     "text": [
      "In Order Traversal : 0 1 2 3 4 5 7 8 9 \n",
      "Pre Order Traversal : 8 3 1 0 2 4 5 7 9 \n",
      "Post Order Traversal : 0 2 1 7 5 4 3 9 8 "
     ]
    }
   ],
   "source": [
    "class node():\n",
    "\n",
    "    def __init__(self,val):\n",
    "        self.val = val\n",
    "        self.left  = None\n",
    "        self.right = None\n",
    "\n",
    "\n",
    "        \n",
    "class Tree():\n",
    "    def __init__(self,rtVal=None):\n",
    "        self.root = node(rtVal)\n",
    "    \n",
    "    def insertNode(self, val):\n",
    "\n",
    "        if self.root.val is None:\n",
    "            self.root.val = val\n",
    "            return self.root.val\n",
    "        st = self.root\n",
    "\n",
    "        while True:\n",
    "            if(val < st.val ):\n",
    "                if(st.left is None):\n",
    "                    st.left = node(val)\n",
    "                    return st.left\n",
    "                st = st.left \n",
    "            else:\n",
    "                if(st.right is None):\n",
    "                    st.right = node(val)\n",
    "                    return st.right\n",
    "                st = st.right\n",
    "    def display(self,rt):\n",
    "        if(rt is None):\n",
    "            return\n",
    "        \n",
    "        print(rt.val,end=\" \")\n",
    "        self.display(rt.left)\n",
    "        self.display(rt.right)\n",
    "    def inorder(self,rt):\n",
    "        if(rt is None):\n",
    "            return\n",
    "        \n",
    "        self.inorder(rt.left)\n",
    "        print(rt.val,end=\" \")\n",
    "        self.inorder(rt.right)\n",
    "\n",
    "    def preorder(self,rt):\n",
    "        if(rt is None):\n",
    "            return\n",
    "        \n",
    "        print(rt.val,end=\" \")\n",
    "        self.preorder(rt.left)\n",
    "        self.preorder(rt.right)\n",
    "    def postorder(self,rt):\n",
    "        if(rt is None):\n",
    "            return\n",
    "        \n",
    "        self.postorder(rt.left)\n",
    "        self.postorder(rt.right)\n",
    "        print(rt.val,end=\" \")\n",
    "\n",
    "\n",
    "\n",
    "t = Tree()\n",
    "ls = [8,3,4,1,2,9,0,5,7]\n",
    "for i in ls:\n",
    "    t.insertNode(i)\n",
    "# t.display(t.root)\n",
    "print(\"In Order Traversal : \",end=\"\")\n",
    "t.inorder(t.root)\n",
    "print(\"\\nPre Order Traversal : \",end=\"\")\n",
    "t.preorder(t.root)\n",
    "print(\"\\nPost Order Traversal : \",end=\"\")\n",
    "t.postorder(t.root)\n",
    "\n",
    "        \n",
    "        \n"
   ]
  },
  {
   "cell_type": "code",
   "execution_count": 3,
   "metadata": {},
   "outputs": [
    {
     "name": "stdout",
     "output_type": "stream",
     "text": [
      "[[1]]\n"
     ]
    }
   ],
   "source": [
    "class TreeNode:\n",
    "    def __init__(self, val=0, left=None, right=None):\n",
    "        self.val = val\n",
    "        self.left = left\n",
    "        self.right = right\n",
    "\n",
    "\n",
    "\n",
    "def pathSum( root, targetSum: int) :\n",
    "    if(not root):\n",
    "            return []\n",
    "        \n",
    "    if(not root.left and not root.right):\n",
    "        if(targetSum - root.val == 0 ):\n",
    "            return [[root.val]]\n",
    "        \n",
    "        return []\n",
    "    \n",
    "    ans = (pathSum(root.left,targetSum - root.val) if root.left else []) + ( pathSum(root.right,targetSum - root.val) if root.right else [] )\n",
    "    \n",
    "    if(ans):\n",
    "    \n",
    "        for i in range(len(ans)):\n",
    "            ans[i] = [root.val]+ans[i]\n",
    "    \n",
    "    return ans\n",
    "\n",
    "# rt = TreeNode(5,TreeNode(4,TreeNode(11,TreeNode(7),TreeNode(2))), TreeNode(8,TreeNode(13),TreeNode(4,TreeNode(5),TreeNode(1))))\n",
    "# print(pathSum(rt,22))\n",
    "rt = TreeNode(1)\n",
    "print(pathSum(rt,1))"
   ]
  },
  {
   "cell_type": "code",
   "execution_count": null,
   "metadata": {},
   "outputs": [],
   "source": [
    "def isPlndrm(s,ii):\n",
    "    n = len(s)\n",
    "    i = ii\n",
    "    j = i\n",
    "    \n",
    "    s1=0\n",
    "\n",
    "    while(i != 0 and j != n and s[i] == s[j]):\n",
    "        i-=1\n",
    "        j+=1\n",
    "        s1+=1\n",
    "    s2 = 0\n",
    "    i = ii\n",
    "    j = ii+1\n",
    "\n",
    "    while(i != 0 and j != n and s[i] == s[j]):\n",
    "        i-=1\n",
    "        j+=1\n",
    "        s2+=1\n",
    "    return max(s1,s2)\n",
    "\n",
    "\n",
    "    \n",
    "\n",
    "    "
   ]
  }
 ],
 "metadata": {
  "kernelspec": {
   "display_name": "Python 3.8.10 64-bit",
   "language": "python",
   "name": "python3"
  },
  "language_info": {
   "codemirror_mode": {
    "name": "ipython",
    "version": 3
   },
   "file_extension": ".py",
   "mimetype": "text/x-python",
   "name": "python",
   "nbconvert_exporter": "python",
   "pygments_lexer": "ipython3",
   "version": "3.8.10"
  },
  "orig_nbformat": 4,
  "vscode": {
   "interpreter": {
    "hash": "916dbcbb3f70747c44a77c7bcd40155683ae19c65e1c03b4aa3499c5328201f1"
   }
  }
 },
 "nbformat": 4,
 "nbformat_minor": 2
}
