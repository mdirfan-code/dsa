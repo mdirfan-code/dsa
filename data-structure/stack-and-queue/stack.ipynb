{
 "cells": [
  {
   "cell_type": "code",
   "execution_count": 3,
   "metadata": {},
   "outputs": [
    {
     "name": "stdout",
     "output_type": "stream",
     "text": [
      "Stack Underflow\n",
      "Stack\n",
      "_________\n",
      "1 <-- Top\n",
      "--------\n",
      "\n",
      "\n",
      "Stack\n",
      "_________\n",
      "2 <-- Top\n",
      "1\n",
      "--------\n",
      "\n",
      "\n",
      "Stack\n",
      "_________\n",
      "3 <-- Top\n",
      "2\n",
      "1\n",
      "--------\n",
      "\n",
      "\n",
      "Stack\n",
      "_________\n",
      "4 <-- Top\n",
      "3\n",
      "2\n",
      "1\n",
      "--------\n",
      "\n",
      "\n",
      "Stack\n",
      "_________\n",
      "5 <-- Top\n",
      "4\n",
      "3\n",
      "2\n",
      "1\n",
      "--------\n",
      "\n",
      "\n",
      "Stack Overflow\n",
      "Stack\n",
      "_________\n",
      "4 <-- Top\n",
      "3\n",
      "2\n",
      "1\n",
      "--------\n",
      "\n",
      "\n"
     ]
    }
   ],
   "source": [
    "class stack:\n",
    "    def __init__(self, size):\n",
    "        self.top = -1\n",
    "        self.arr = [-1]*size\n",
    "        self.size = size\n",
    "    \n",
    "    def push(self,ele):\n",
    "        if(self.top == self.size-1):\n",
    "            print(\"Stack Overflow\")\n",
    "            return\n",
    "        self.top += 1\n",
    "        self.arr[self.top] = ele\n",
    "    def pop(self):\n",
    "        if(self.top == -1):\n",
    "            print(\"Stack Underflow\")\n",
    "            return\n",
    "        self.top -= 1\n",
    "        return self.arr[self.top+1]\n",
    "    def display(self):\n",
    "        if(self.top == -1):\n",
    "            print(\"Stack Underflow\")\n",
    "            return\n",
    "        i = self.top\n",
    "        print(\"Stack\\n_________\")\n",
    "        print(self.arr[i],\"<-- Top\")\n",
    "        i-=1\n",
    "        while(i!=-1):\n",
    "            print(self.arr[i])\n",
    "            i-=1\n",
    "        print(\"--------\\n\\n\")\n",
    "s = stack(5)\n",
    "s.pop()\n",
    "s.push(1)\n",
    "s.display()\n",
    "s.push(2)\n",
    "s.display()\n",
    "s.push(3)\n",
    "s.display()\n",
    "s.push(4)\n",
    "s.display()\n",
    "s.push(5)\n",
    "s.display()\n",
    "s.push(6)\n",
    "s.pop()\n",
    "s.display()\n"
   ]
  },
  {
   "cell_type": "code",
   "execution_count": null,
   "metadata": {},
   "outputs": [],
   "source": []
  }
 ],
 "metadata": {
  "kernelspec": {
   "display_name": "Python 3.8.10 64-bit",
   "language": "python",
   "name": "python3"
  },
  "language_info": {
   "codemirror_mode": {
    "name": "ipython",
    "version": 3
   },
   "file_extension": ".py",
   "mimetype": "text/x-python",
   "name": "python",
   "nbconvert_exporter": "python",
   "pygments_lexer": "ipython3",
   "version": "3.8.10"
  },
  "orig_nbformat": 4,
  "vscode": {
   "interpreter": {
    "hash": "916dbcbb3f70747c44a77c7bcd40155683ae19c65e1c03b4aa3499c5328201f1"
   }
  }
 },
 "nbformat": 4,
 "nbformat_minor": 2
}
