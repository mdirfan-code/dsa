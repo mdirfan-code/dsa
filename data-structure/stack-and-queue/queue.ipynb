{
 "cells": [
  {
   "cell_type": "code",
   "execution_count": 1,
   "metadata": {},
   "outputs": [
    {
     "ename": "SyntaxError",
     "evalue": "invalid syntax (4019454295.py, line 8)",
     "output_type": "error",
     "traceback": [
      "\u001b[0;36m  File \u001b[0;32m\"/tmp/ipykernel_12534/4019454295.py\"\u001b[0;36m, line \u001b[0;32m8\u001b[0m\n\u001b[0;31m    if(self.front )\u001b[0m\n\u001b[0m                   ^\u001b[0m\n\u001b[0;31mSyntaxError\u001b[0m\u001b[0;31m:\u001b[0m invalid syntax\n"
     ]
    }
   ],
   "source": [
    "class queue():\n",
    "    def __init__(self,size):\n",
    "        self.front,self.rear = -1,-1\n",
    "        self.arr = [-1]*size\n",
    "        self.size = size\n",
    "    \n",
    "    def enqueue(self,ele):\n",
    "        if(self.front )\n"
   ]
  },
  {
   "cell_type": "code",
   "execution_count": 4,
   "metadata": {},
   "outputs": [
    {
     "name": "stdout",
     "output_type": "stream",
     "text": [
      "3000\n"
     ]
    }
   ],
   "source": [
    "ls = [60,30,40,20,50]\n",
    "\n",
    "mx,smx =ls[0],0\n",
    "\n",
    "for i in range(1,5):\n",
    "    if(ls[i] > mx):\n",
    "        smx = mx\n",
    "        mx = ls[i]\n",
    "    elif(ls[i] != mx and ls[i] > smx):\n",
    "        smx = ls[i]\n",
    "print(mx*smx)\n",
    "\n",
    "\n",
    "\n",
    "\n"
   ]
  },
  {
   "cell_type": "code",
   "execution_count": 6,
   "metadata": {},
   "outputs": [
    {
     "name": "stdout",
     "output_type": "stream",
     "text": [
      "7\n"
     ]
    }
   ],
   "source": [
    "arr = [1,2,5,6,6,4,2,1,7]\n",
    "max = arr[0]\n",
    "for i in range(1,len(arr)):\n",
    "    if arr[i] > max:\n",
    "        max = arr[i]\n",
    "print(max)\n",
    "\n",
    "# OR\n",
    "print(max(arr))"
   ]
  },
  {
   "cell_type": "code",
   "execution_count": 17,
   "metadata": {},
   "outputs": [
    {
     "name": "stdout",
     "output_type": "stream",
     "text": [
      "Counter({1: 2, 2: 2, 6: 2, 5: 1, 4: 1, 7: 1})\n"
     ]
    }
   ],
   "source": [
    "from collections import Counter\n",
    "arr = [1,2,5,6,6,4,2,1,7]\n",
    "#for i in arr:\n",
    "    \n",
    "print(Counter(arr))"
   ]
  },
  {
   "cell_type": "code",
   "execution_count": null,
   "metadata": {},
   "outputs": [],
   "source": [
    "arr = [1,2,5,6,6,4,2,1,7]\n",
    "dic = {}\n",
    "for i in arr:\n",
    "    if i in dic:\n",
    "        dic[i] += 1\n",
    "    else:\n",
    "        dic[i] = 1\n",
    "print(dic)"
   ]
  },
  {
   "cell_type": "code",
   "execution_count": 2,
   "metadata": {},
   "outputs": [
    {
     "name": "stdout",
     "output_type": "stream",
     "text": [
      "n 1298074214633706907132624082305024\n",
      "0b100000000000000000000000000000000000000000000000000000000000000000000000000000000000000000000000000000000000000\n",
      "a 1298232670958735435807811170205696\n",
      "0b100000000000010000000000000000000000000000000000000000000000000000000000000000000000000000000000000000000000000\n",
      "m 1947269778275588889374123211358208\n",
      "0b110000000000010000000000000000000000000000000000000000000000000000000000000000000000000000000000000000000000000\n",
      "a 1947111321950560360698936123457536\n",
      "0b110000000000000000000000000000000000000000000000000000000000000000000000000000000000000000000000000000000000000\n",
      "n 649037107316853453566312041152512\n",
      "0b10000000000000000000000000000000000000000000000000000000000000000000000000000000000000000000000000000000000000\n",
      "True\n"
     ]
    }
   ],
   "source": [
    "bv = 0\n",
    "\n",
    "for i in \"naman\":\n",
    "    bv ^= 1 << ord(i)\n",
    "    print(i,bv) \n",
    "    print(bin(bv))\n",
    "print(bv ==0 or (bv)&(bv-1) == 0)"
   ]
  },
  {
   "cell_type": "code",
   "execution_count": null,
   "metadata": {},
   "outputs": [],
   "source": []
  }
 ],
 "metadata": {
  "kernelspec": {
   "display_name": "Python 3.8.10 64-bit",
   "language": "python",
   "name": "python3"
  },
  "language_info": {
   "codemirror_mode": {
    "name": "ipython",
    "version": 3
   },
   "file_extension": ".py",
   "mimetype": "text/x-python",
   "name": "python",
   "nbconvert_exporter": "python",
   "pygments_lexer": "ipython3",
   "version": "3.8.10"
  },
  "orig_nbformat": 4,
  "vscode": {
   "interpreter": {
    "hash": "916dbcbb3f70747c44a77c7bcd40155683ae19c65e1c03b4aa3499c5328201f1"
   }
  }
 },
 "nbformat": 4,
 "nbformat_minor": 2
}
