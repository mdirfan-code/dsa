{
 "cells": [
  {
   "cell_type": "markdown",
   "metadata": {},
   "source": [
    "# Graph\n",
    "-----------------------\n",
    "\n",
    "#### Disjoint Sets\n",
    "_________"
   ]
  },
  {
   "cell_type": "code",
   "execution_count": null,
   "metadata": {},
   "outputs": [],
   "source": [
    "def find(node, arr):\n",
    "    if(arr[node]<0):\n",
    "        return node\n",
    "    else:\n",
    "        temp = find(arr[node],arr)\n",
    "        arr[node] = temp\n",
    "        return temp\n",
    "def union(la,lb,arr):\n",
    "    if(arr[la]<=arr[lb]):\n",
    "        arr[la] = arr[la] + arr[lb]\n",
    "        arr[lb] = la\n",
    "    else:\n",
    "        arr[lb] = arr[la] + arr[lb]\n",
    "        arr[la] = lb\n",
    "\n",
    "t = int(input())\n",
    "while(t):\n",
    "    n, m = map(int, input().split())\n",
    "    arr = [-1]*n\n",
    "    for _ in range(m):\n",
    "        a,b = map(int, input().split())\n",
    "        la = find(a,arr)\n",
    "        lb = find(b,arr)\n",
    "        if(la != lb):\n",
    "            union(la,lb,arr)\n",
    "    q = int(input())\n",
    "    for i in range(q):\n",
    "        a,b = map(int, input().split())\n",
    "        if(find(a,arr) == find(b,arr)):\n",
    "            print(\"YO\")\n",
    "        else:\n",
    "            print(\"NO\")\n",
    "\n",
    "\n",
    "    t-=1 "
   ]
  },
  {
   "cell_type": "markdown",
   "metadata": {},
   "source": [
    "----------------\n",
    "#### Minimum Spanning Tree\n",
    "----------------"
   ]
  },
  {
   "cell_type": "markdown",
   "metadata": {},
   "source": [
    "----------------\n",
    "#### Minimum Spanning Tree\n",
    "----------------"
   ]
  },
  {
   "cell_type": "markdown",
   "metadata": {},
   "source": [
    "* Krushkal's Algorithm\n"
   ]
  },
  {
   "cell_type": "code",
   "execution_count": 9,
   "metadata": {},
   "outputs": [
    {
     "name": "stdout",
     "output_type": "stream",
     "text": [
      "6\n",
      "1 2 3 4 5 7\n"
     ]
    }
   ],
   "source": [
    "def solve(plyrs,n):\n",
    "    od = [i for i in range(n)]\n",
    "    od.sort(key= lambda x:plyrs[x])\n",
    "    ans = []\n",
    "    i = 0\n",
    "    x = 0\n",
    "    while(i<n-1):\n",
    "        x+= plyrs[od[i]]\n",
    "        if(x>=plyrs[od[i+1]]):\n",
    "            ans.append(od[i]+1)\n",
    "            i+=1\n",
    "            break\n",
    "        i+=1\n",
    "    else:\n",
    "        ans.append(od[n-1]+1)\n",
    "        \n",
    "\n",
    "    while(i<n):\n",
    "        j = i + 1\n",
    "        x = plyrs[od[i]]\n",
    "        for k in range(i):\n",
    "            x+=plyrs[od[k]]\n",
    "        while(j<n):\n",
    "            if(plyrs[od[j]] > x):\n",
    "                break\n",
    "            x += plyrs[od[j]]\n",
    "            j+=1\n",
    "        else:\n",
    "            ans.append(od[i]+1)\n",
    "            i+=1\n",
    "            while(i<n):\n",
    "                ans.append(od[i]+1)\n",
    "                i+=1\n",
    "            break\n",
    "        i+=1\n",
    "        \n",
    "    ans.sort()\n",
    "    return str(len(ans)) + \"\\n\" + \" \".join(list(map(str,ans)))\n",
    "\n",
    "\n",
    "\n",
    "\n",
    "n = int(input())\n",
    "\n",
    "arr = list(map(int,input().split()))\n",
    "\n",
    "# arr = []\n",
    "# for i in range(n):\n",
    "#     arr.append(int(input()))\n",
    "print(solve(arr,n)) "
   ]
  },
  {
   "cell_type": "code",
   "execution_count": null,
   "metadata": {},
   "outputs": [
    {
     "name": "stdout",
     "output_type": "stream",
     "text": [
      "6\n",
      "1 2 3 4 5 7\n"
     ]
    }
   ],
   "source": [
    "def solve(plyrs,n):\n",
    "/;,KJMNHGBT    od = [i for i in range(n)]\n",
    "    od.sort(key= lambda x:plyrs[x])\n",
    "    ans = []\n",
    "    i = 0\n",
    "    x = 0\n",
    "    while(i<n-1):\n",
    "        x+= plyrs[od[i]]\n",
    "        if(x>=plyrs[od[i+1]]):\n",
    "            ans.append(od[i]+1)\n",
    "            i+=1\n",
    "            break\n",
    "        i+=1\n",
    "    else:\n",
    "        ans.append(od[n-1]+1)\n",
    "        \n",
    "\n",
    "    while(i<n):\n",
    "        j = i + 1\n",
    "        x = plyrs[od[i]]\n",
    "        for k in range(i):\n",
    "            x+=plyrs[od[k]]\n",
    "        while(j<n):\n",
    "            if(plyrs[od[j]] > x):\n",
    "                break\n",
    "            x += plyrs[od[j]]\n",
    "            j+=1\n",
    "        else:\n",
    "            ans.append(od[i]+1)\n",
    "            i+=1\n",
    "            while(i<n):\n",
    "                ans.append(od[i]+1)\n",
    "                i+=1\n",
    "            break\n",
    "        i+=1\n",
    "        \n",
    "    ans.sort()\n",
    "    return str(len(ans)) + \"\\n\" + \" \".join(list(map(str,ans)))\n",
    "\n",
    "\n",
    "\n",
    "\n",
    "n = int(input())\n",
    "\n",
    "arr = list(map(int,input().split()))\n",
    "\n",
    "# arr = []\n",
    "# for i in range(n):\n",
    "#     arr.append(int(input()))\n",
    "print(solve(arr,n)) "
   ]
  },
  {
   "cell_type": "code",
   "execution_count": 8,
   "metadata": {},
   "outputs": [
    {
     "data": {
      "text/plain": [
       "1536"
      ]
     },
     "execution_count": 8,
     "metadata": {},
     "output_type": "execute_result"
    }
   ],
   "source": [
    "def isVowel(l):\n",
    "    return l in \"aeiou\"\n",
    "def solve(st):\n",
    "    \n",
    "    \n",
    "\n",
    "st = input()\n",
    "print(solve(st))"
   ]
  },
  {
   "cell_type": "code",
   "execution_count": 2,
   "metadata": {},
   "outputs": [
    {
     "name": "stdout",
     "output_type": "stream",
     "text": [
      "[['1', '1', '1'], ['0', '1', '0'], ['1', '1', '1']]\n"
     ]
    },
    {
     "data": {
      "text/plain": [
       "1"
      ]
     },
     "execution_count": 2,
     "metadata": {},
     "output_type": "execute_result"
    }
   ],
   "source": [
    "def numIsland(grid):\n",
    "    ni = 0\n",
    "    \n",
    "    n = len(grid)\n",
    "    m = len(grid[0])\n",
    "    \n",
    "    def bfs(i,j):\n",
    "        if(grid[i][j] == \"1\"):\n",
    "            grid[i][j] = \"-1\"\n",
    "            if(i+1 < len(grid)):\n",
    "                bfs(i+1,j)\n",
    "            if(j+1 < len(grid[0])):\n",
    "                bfs(i,j+1)\n",
    "            if(i-1 > -1):\n",
    "                bfs(i-1,j)\n",
    "            if(j-1 > -1):\n",
    "                bfs(i,j-1)\n",
    "                \n",
    "                \n",
    "            \n",
    "            \n",
    "    \n",
    "    for i in range(n):\n",
    "        for j in range(m):\n",
    "            if(grid[i][j] == \"1\"):\n",
    "                print(grid)\n",
    "                ni+=1\n",
    "                bfs(i,j)\n",
    "    return ni\n",
    "\n",
    "numIsland([[\"1\",\"1\",\"1\"],[\"0\",\"1\",\"0\"],[\"1\",\"1\",\"1\"]])"
   ]
  },
  {
   "cell_type": "code",
   "execution_count": null,
   "metadata": {},
   "outputs": [],
   "source": [
    "class Node:\n",
    "    def __init__(self, val = 0, neighbors = None):\n",
    "        self.val = val\n",
    "        self.neighbors = neighbors if neighbors is not None else []\n",
    "\n",
    "def func(node):\n",
    "    d = {}\n",
    "    def dfs(n,r):\n",
    "        if(n.val in d):\n",
    "            return\n",
    "        d[n.val] = 1\n",
    "        n = [] \n",
    "        for i in n.neighbors:\n",
    "            t = Node(i.val, [] if i.neighbors else None)\n",
    "            dfs(i,t)\n",
    "            print(t.val)\n",
    "            r.neighbors.append(t)\n",
    "        \n",
    "    r = Node(1,[] if node.neighbors else None)\n",
    "    d[node.val] = 1\n",
    "    dfs(node,r)\n",
    "    return r"
   ]
  },
  {
   "cell_type": "code",
   "execution_count": null,
   "metadata": {},
   "outputs": [],
   "source": [
    "def func(grid):\n",
    "    ni = 0\n",
    "    \n",
    "    n = len(grid)\n",
    "    m = len(grid[0])\n",
    "    \n",
    "    def bfs(i,j):\n",
    "        if(grid[i][j] == \"1\"):\n",
    "            grid[i][j] = \"-1\"\n",
    "            nn = 1\n",
    "            if(i+1 < len(grid)):\n",
    "                nn += bfs(i+1,j)\n",
    "            if(j+1 < len(grid[0])):\n",
    "                nn += bfs(i,j+1)\n",
    "            if(i-1 > -1):\n",
    "                nn += bfs(i-1,j)\n",
    "            if(j-1 > -1):\n",
    "                nn += bfs(i,j-1)\n",
    "            print(nn)\n",
    "            return nn\n",
    "        return 0\n",
    "                \n",
    "                \n",
    "            \n",
    "            \n",
    "    \n",
    "    for i in range(n):\n",
    "        for j in range(m):\n",
    "            if(grid[i][j] == \"1\"):\n",
    "                ni = max(ni,bfs(i,j))\n",
    "                \n",
    "                \n",
    "    return ni\n",
    "print()"
   ]
  }
 ],
 "metadata": {
  "kernelspec": {
   "display_name": "Python 3.8.10 64-bit",
   "language": "python",
   "name": "python3"
  },
  "language_info": {
   "codemirror_mode": {
    "name": "ipython",
    "version": 3
   },
   "file_extension": ".py",
   "mimetype": "text/x-python",
   "name": "python",
   "nbconvert_exporter": "python",
   "pygments_lexer": "ipython3",
   "version": "3.8.10"
  },
  "orig_nbformat": 4,
  "vscode": {
   "interpreter": {
    "hash": "916dbcbb3f70747c44a77c7bcd40155683ae19c65e1c03b4aa3499c5328201f1"
   }
  }
 },
 "nbformat": 4,
 "nbformat_minor": 2
}
